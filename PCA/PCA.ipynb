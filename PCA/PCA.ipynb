{
 "cells": [
  {
   "cell_type": "code",
   "execution_count": 1,
   "metadata": {},
   "outputs": [],
   "source": [
    "import pandas as pd\n",
    "import numpy as np\n",
    "import matplotlib.pyplot as plt"
   ]
  },
  {
   "cell_type": "code",
   "execution_count": 2,
   "metadata": {},
   "outputs": [],
   "source": [
    "df = pd.read_csv('CC GENERAL.csv')\n",
    "df.drop('CUST_ID', axis=1, inplace=True)\n",
    "df['MINIMUM_PAYMENTS'] = df['MINIMUM_PAYMENTS'].fillna(df['MINIMUM_PAYMENTS'].mean())\n",
    "df = df.dropna(axis = 0, subset = ['CREDIT_LIMIT'])"
   ]
  },
  {
   "cell_type": "code",
   "execution_count": 3,
   "metadata": {},
   "outputs": [
    {
     "data": {
      "text/plain": [
       "(8949, 17)"
      ]
     },
     "execution_count": 3,
     "metadata": {},
     "output_type": "execute_result"
    }
   ],
   "source": [
    "df.shape"
   ]
  },
  {
   "cell_type": "markdown",
   "metadata": {},
   "source": [
    "# PCA Using Eigen Decomposition"
   ]
  },
  {
   "cell_type": "markdown",
   "metadata": {},
   "source": [
    "### Step 1: Standardize the dataset (Subtract mean and divide by standard deviation)."
   ]
  },
  {
   "cell_type": "code",
   "execution_count": 4,
   "metadata": {},
   "outputs": [
    {
     "name": "stdout",
     "output_type": "stream",
     "text": [
      "BALANCE                             1564.647593\n",
      "BALANCE_FREQUENCY                      0.877350\n",
      "PURCHASES                           1003.316936\n",
      "ONEOFF_PURCHASES                     592.503572\n",
      "INSTALLMENTS_PURCHASES               411.113579\n",
      "CASH_ADVANCE                         978.959616\n",
      "PURCHASES_FREQUENCY                    0.490405\n",
      "ONEOFF_PURCHASES_FREQUENCY             0.202480\n",
      "PURCHASES_INSTALLMENTS_FREQUENCY       0.364478\n",
      "CASH_ADVANCE_FREQUENCY                 0.135141\n",
      "CASH_ADVANCE_TRX                       3.249078\n",
      "PURCHASES_TRX                         14.711476\n",
      "CREDIT_LIMIT                        4494.449450\n",
      "PAYMENTS                            1733.336511\n",
      "MINIMUM_PAYMENTS                     864.301501\n",
      "PRC_FULL_PAYMENT                       0.153732\n",
      "TENURE                                11.517935\n",
      "dtype: float64\n",
      "BALANCE                             2081.584016\n",
      "BALANCE_FREQUENCY                      0.236798\n",
      "PURCHASES                           2136.727848\n",
      "ONEOFF_PURCHASES                    1659.968851\n",
      "INSTALLMENTS_PURCHASES               904.378205\n",
      "CASH_ADVANCE                        2097.264344\n",
      "PURCHASES_FREQUENCY                    0.401360\n",
      "ONEOFF_PURCHASES_FREQUENCY             0.298345\n",
      "PURCHASES_INSTALLMENTS_FREQUENCY       0.397451\n",
      "CASH_ADVANCE_FREQUENCY                 0.200132\n",
      "CASH_ADVANCE_TRX                       6.824987\n",
      "PURCHASES_TRX                         24.858552\n",
      "CREDIT_LIMIT                        3638.815725\n",
      "PAYMENTS                            2895.168146\n",
      "MINIMUM_PAYMENTS                    2330.700932\n",
      "PRC_FULL_PAYMENT                       0.292511\n",
      "TENURE                                 1.337134\n",
      "dtype: float64\n"
     ]
    }
   ],
   "source": [
    "mean = df.mean(axis = 0) \n",
    "print(mean)\n",
    "std = df.std(axis = 0) \n",
    "print(std)"
   ]
  },
  {
   "cell_type": "code",
   "execution_count": 5,
   "metadata": {},
   "outputs": [
    {
     "data": {
      "text/html": [
       "<div>\n",
       "<style scoped>\n",
       "    .dataframe tbody tr th:only-of-type {\n",
       "        vertical-align: middle;\n",
       "    }\n",
       "\n",
       "    .dataframe tbody tr th {\n",
       "        vertical-align: top;\n",
       "    }\n",
       "\n",
       "    .dataframe thead th {\n",
       "        text-align: right;\n",
       "    }\n",
       "</style>\n",
       "<table border=\"1\" class=\"dataframe\">\n",
       "  <thead>\n",
       "    <tr style=\"text-align: right;\">\n",
       "      <th></th>\n",
       "      <th>BALANCE</th>\n",
       "      <th>BALANCE_FREQUENCY</th>\n",
       "      <th>PURCHASES</th>\n",
       "      <th>ONEOFF_PURCHASES</th>\n",
       "      <th>INSTALLMENTS_PURCHASES</th>\n",
       "      <th>CASH_ADVANCE</th>\n",
       "      <th>PURCHASES_FREQUENCY</th>\n",
       "      <th>ONEOFF_PURCHASES_FREQUENCY</th>\n",
       "      <th>PURCHASES_INSTALLMENTS_FREQUENCY</th>\n",
       "      <th>CASH_ADVANCE_FREQUENCY</th>\n",
       "      <th>CASH_ADVANCE_TRX</th>\n",
       "      <th>PURCHASES_TRX</th>\n",
       "      <th>CREDIT_LIMIT</th>\n",
       "      <th>PAYMENTS</th>\n",
       "      <th>MINIMUM_PAYMENTS</th>\n",
       "      <th>PRC_FULL_PAYMENT</th>\n",
       "      <th>TENURE</th>\n",
       "    </tr>\n",
       "  </thead>\n",
       "  <tbody>\n",
       "    <tr>\n",
       "      <th>0</th>\n",
       "      <td>-0.732013</td>\n",
       "      <td>-0.249867</td>\n",
       "      <td>-0.424910</td>\n",
       "      <td>-0.356937</td>\n",
       "      <td>-0.349095</td>\n",
       "      <td>-0.466779</td>\n",
       "      <td>-0.806604</td>\n",
       "      <td>-0.678678</td>\n",
       "      <td>-0.707370</td>\n",
       "      <td>-0.675257</td>\n",
       "      <td>-0.476056</td>\n",
       "      <td>-0.511352</td>\n",
       "      <td>-0.960326</td>\n",
       "      <td>-0.528997</td>\n",
       "      <td>-0.310976</td>\n",
       "      <td>-0.525559</td>\n",
       "      <td>0.360521</td>\n",
       "    </tr>\n",
       "    <tr>\n",
       "      <th>1</th>\n",
       "      <td>0.786814</td>\n",
       "      <td>0.134042</td>\n",
       "      <td>-0.469558</td>\n",
       "      <td>-0.356937</td>\n",
       "      <td>-0.454581</td>\n",
       "      <td>2.605292</td>\n",
       "      <td>-1.221860</td>\n",
       "      <td>-0.678678</td>\n",
       "      <td>-0.917038</td>\n",
       "      <td>0.573917</td>\n",
       "      <td>0.110025</td>\n",
       "      <td>-0.591807</td>\n",
       "      <td>0.688562</td>\n",
       "      <td>0.818500</td>\n",
       "      <td>0.089260</td>\n",
       "      <td>0.234146</td>\n",
       "      <td>0.360521</td>\n",
       "    </tr>\n",
       "    <tr>\n",
       "      <th>2</th>\n",
       "      <td>0.447016</td>\n",
       "      <td>0.517951</td>\n",
       "      <td>-0.107710</td>\n",
       "      <td>0.108837</td>\n",
       "      <td>-0.454581</td>\n",
       "      <td>-0.466779</td>\n",
       "      <td>1.269671</td>\n",
       "      <td>2.673145</td>\n",
       "      <td>-0.917038</td>\n",
       "      <td>-0.675257</td>\n",
       "      <td>-0.476056</td>\n",
       "      <td>-0.109076</td>\n",
       "      <td>0.825969</td>\n",
       "      <td>-0.383836</td>\n",
       "      <td>-0.101693</td>\n",
       "      <td>-0.525559</td>\n",
       "      <td>0.360521</td>\n",
       "    </tr>\n",
       "    <tr>\n",
       "      <th>3</th>\n",
       "      <td>0.049012</td>\n",
       "      <td>-1.017686</td>\n",
       "      <td>0.231982</td>\n",
       "      <td>0.546092</td>\n",
       "      <td>-0.454581</td>\n",
       "      <td>-0.368657</td>\n",
       "      <td>-1.014233</td>\n",
       "      <td>-0.399361</td>\n",
       "      <td>-0.917038</td>\n",
       "      <td>-0.258867</td>\n",
       "      <td>-0.329536</td>\n",
       "      <td>-0.551580</td>\n",
       "      <td>0.825969</td>\n",
       "      <td>-0.598700</td>\n",
       "      <td>-0.000041</td>\n",
       "      <td>-0.525559</td>\n",
       "      <td>0.360521</td>\n",
       "    </tr>\n",
       "    <tr>\n",
       "      <th>4</th>\n",
       "      <td>-0.358829</td>\n",
       "      <td>0.517951</td>\n",
       "      <td>-0.462070</td>\n",
       "      <td>-0.347298</td>\n",
       "      <td>-0.454581</td>\n",
       "      <td>-0.466779</td>\n",
       "      <td>-1.014233</td>\n",
       "      <td>-0.399361</td>\n",
       "      <td>-0.917038</td>\n",
       "      <td>-0.675257</td>\n",
       "      <td>-0.476056</td>\n",
       "      <td>-0.551580</td>\n",
       "      <td>-0.905363</td>\n",
       "      <td>-0.364401</td>\n",
       "      <td>-0.265804</td>\n",
       "      <td>-0.525559</td>\n",
       "      <td>0.360521</td>\n",
       "    </tr>\n",
       "    <tr>\n",
       "      <th>...</th>\n",
       "      <td>...</td>\n",
       "      <td>...</td>\n",
       "      <td>...</td>\n",
       "      <td>...</td>\n",
       "      <td>...</td>\n",
       "      <td>...</td>\n",
       "      <td>...</td>\n",
       "      <td>...</td>\n",
       "      <td>...</td>\n",
       "      <td>...</td>\n",
       "      <td>...</td>\n",
       "      <td>...</td>\n",
       "      <td>...</td>\n",
       "      <td>...</td>\n",
       "      <td>...</td>\n",
       "      <td>...</td>\n",
       "      <td>...</td>\n",
       "    </tr>\n",
       "    <tr>\n",
       "      <th>8945</th>\n",
       "      <td>-0.737974</td>\n",
       "      <td>0.517951</td>\n",
       "      <td>-0.333312</td>\n",
       "      <td>-0.356937</td>\n",
       "      <td>-0.132681</td>\n",
       "      <td>-0.466779</td>\n",
       "      <td>1.269671</td>\n",
       "      <td>-0.678678</td>\n",
       "      <td>1.179654</td>\n",
       "      <td>-0.675257</td>\n",
       "      <td>-0.476056</td>\n",
       "      <td>-0.350442</td>\n",
       "      <td>-0.960326</td>\n",
       "      <td>-0.486238</td>\n",
       "      <td>-0.349858</td>\n",
       "      <td>1.183778</td>\n",
       "      <td>-4.126688</td>\n",
       "    </tr>\n",
       "    <tr>\n",
       "      <th>8946</th>\n",
       "      <td>-0.742446</td>\n",
       "      <td>0.517951</td>\n",
       "      <td>-0.329156</td>\n",
       "      <td>-0.356937</td>\n",
       "      <td>-0.122862</td>\n",
       "      <td>-0.466779</td>\n",
       "      <td>1.269671</td>\n",
       "      <td>-0.678678</td>\n",
       "      <td>1.179654</td>\n",
       "      <td>-0.675257</td>\n",
       "      <td>-0.476056</td>\n",
       "      <td>-0.350442</td>\n",
       "      <td>-0.960326</td>\n",
       "      <td>-0.503416</td>\n",
       "      <td>-0.000041</td>\n",
       "      <td>-0.525559</td>\n",
       "      <td>-4.126688</td>\n",
       "    </tr>\n",
       "    <tr>\n",
       "      <th>8947</th>\n",
       "      <td>-0.740421</td>\n",
       "      <td>-0.185885</td>\n",
       "      <td>-0.401978</td>\n",
       "      <td>-0.356937</td>\n",
       "      <td>-0.294914</td>\n",
       "      <td>-0.466779</td>\n",
       "      <td>0.854415</td>\n",
       "      <td>-0.678678</td>\n",
       "      <td>0.760317</td>\n",
       "      <td>-0.675257</td>\n",
       "      <td>-0.476056</td>\n",
       "      <td>-0.390669</td>\n",
       "      <td>-0.960326</td>\n",
       "      <td>-0.570629</td>\n",
       "      <td>-0.335471</td>\n",
       "      <td>0.329110</td>\n",
       "      <td>-4.126688</td>\n",
       "    </tr>\n",
       "    <tr>\n",
       "      <th>8948</th>\n",
       "      <td>-0.745197</td>\n",
       "      <td>-0.185885</td>\n",
       "      <td>-0.469558</td>\n",
       "      <td>-0.356937</td>\n",
       "      <td>-0.454581</td>\n",
       "      <td>-0.449348</td>\n",
       "      <td>-1.221860</td>\n",
       "      <td>-0.678678</td>\n",
       "      <td>-0.917038</td>\n",
       "      <td>0.157527</td>\n",
       "      <td>-0.183015</td>\n",
       "      <td>-0.591807</td>\n",
       "      <td>-1.097733</td>\n",
       "      <td>-0.580549</td>\n",
       "      <td>-0.346911</td>\n",
       "      <td>0.329110</td>\n",
       "      <td>-4.126688</td>\n",
       "    </tr>\n",
       "    <tr>\n",
       "      <th>8949</th>\n",
       "      <td>-0.572612</td>\n",
       "      <td>-0.889716</td>\n",
       "      <td>0.042089</td>\n",
       "      <td>0.301660</td>\n",
       "      <td>-0.454581</td>\n",
       "      <td>-0.406205</td>\n",
       "      <td>0.439161</td>\n",
       "      <td>1.555872</td>\n",
       "      <td>-0.917038</td>\n",
       "      <td>0.990307</td>\n",
       "      <td>-0.183015</td>\n",
       "      <td>0.333427</td>\n",
       "      <td>-0.905363</td>\n",
       "      <td>-0.576882</td>\n",
       "      <td>-0.332952</td>\n",
       "      <td>-0.525559</td>\n",
       "      <td>-4.126688</td>\n",
       "    </tr>\n",
       "  </tbody>\n",
       "</table>\n",
       "<p>8949 rows × 17 columns</p>\n",
       "</div>"
      ],
      "text/plain": [
       "       BALANCE  BALANCE_FREQUENCY  PURCHASES  ONEOFF_PURCHASES  \\\n",
       "0    -0.732013          -0.249867  -0.424910         -0.356937   \n",
       "1     0.786814           0.134042  -0.469558         -0.356937   \n",
       "2     0.447016           0.517951  -0.107710          0.108837   \n",
       "3     0.049012          -1.017686   0.231982          0.546092   \n",
       "4    -0.358829           0.517951  -0.462070         -0.347298   \n",
       "...        ...                ...        ...               ...   \n",
       "8945 -0.737974           0.517951  -0.333312         -0.356937   \n",
       "8946 -0.742446           0.517951  -0.329156         -0.356937   \n",
       "8947 -0.740421          -0.185885  -0.401978         -0.356937   \n",
       "8948 -0.745197          -0.185885  -0.469558         -0.356937   \n",
       "8949 -0.572612          -0.889716   0.042089          0.301660   \n",
       "\n",
       "      INSTALLMENTS_PURCHASES  CASH_ADVANCE  PURCHASES_FREQUENCY  \\\n",
       "0                  -0.349095     -0.466779            -0.806604   \n",
       "1                  -0.454581      2.605292            -1.221860   \n",
       "2                  -0.454581     -0.466779             1.269671   \n",
       "3                  -0.454581     -0.368657            -1.014233   \n",
       "4                  -0.454581     -0.466779            -1.014233   \n",
       "...                      ...           ...                  ...   \n",
       "8945               -0.132681     -0.466779             1.269671   \n",
       "8946               -0.122862     -0.466779             1.269671   \n",
       "8947               -0.294914     -0.466779             0.854415   \n",
       "8948               -0.454581     -0.449348            -1.221860   \n",
       "8949               -0.454581     -0.406205             0.439161   \n",
       "\n",
       "      ONEOFF_PURCHASES_FREQUENCY  PURCHASES_INSTALLMENTS_FREQUENCY  \\\n",
       "0                      -0.678678                         -0.707370   \n",
       "1                      -0.678678                         -0.917038   \n",
       "2                       2.673145                         -0.917038   \n",
       "3                      -0.399361                         -0.917038   \n",
       "4                      -0.399361                         -0.917038   \n",
       "...                          ...                               ...   \n",
       "8945                   -0.678678                          1.179654   \n",
       "8946                   -0.678678                          1.179654   \n",
       "8947                   -0.678678                          0.760317   \n",
       "8948                   -0.678678                         -0.917038   \n",
       "8949                    1.555872                         -0.917038   \n",
       "\n",
       "      CASH_ADVANCE_FREQUENCY  CASH_ADVANCE_TRX  PURCHASES_TRX  CREDIT_LIMIT  \\\n",
       "0                  -0.675257         -0.476056      -0.511352     -0.960326   \n",
       "1                   0.573917          0.110025      -0.591807      0.688562   \n",
       "2                  -0.675257         -0.476056      -0.109076      0.825969   \n",
       "3                  -0.258867         -0.329536      -0.551580      0.825969   \n",
       "4                  -0.675257         -0.476056      -0.551580     -0.905363   \n",
       "...                      ...               ...            ...           ...   \n",
       "8945               -0.675257         -0.476056      -0.350442     -0.960326   \n",
       "8946               -0.675257         -0.476056      -0.350442     -0.960326   \n",
       "8947               -0.675257         -0.476056      -0.390669     -0.960326   \n",
       "8948                0.157527         -0.183015      -0.591807     -1.097733   \n",
       "8949                0.990307         -0.183015       0.333427     -0.905363   \n",
       "\n",
       "      PAYMENTS  MINIMUM_PAYMENTS  PRC_FULL_PAYMENT    TENURE  \n",
       "0    -0.528997         -0.310976         -0.525559  0.360521  \n",
       "1     0.818500          0.089260          0.234146  0.360521  \n",
       "2    -0.383836         -0.101693         -0.525559  0.360521  \n",
       "3    -0.598700         -0.000041         -0.525559  0.360521  \n",
       "4    -0.364401         -0.265804         -0.525559  0.360521  \n",
       "...        ...               ...               ...       ...  \n",
       "8945 -0.486238         -0.349858          1.183778 -4.126688  \n",
       "8946 -0.503416         -0.000041         -0.525559 -4.126688  \n",
       "8947 -0.570629         -0.335471          0.329110 -4.126688  \n",
       "8948 -0.580549         -0.346911          0.329110 -4.126688  \n",
       "8949 -0.576882         -0.332952         -0.525559 -4.126688  \n",
       "\n",
       "[8949 rows x 17 columns]"
      ]
     },
     "execution_count": 5,
     "metadata": {},
     "output_type": "execute_result"
    }
   ],
   "source": [
    "df=df-df.mean(axis = 0)\n",
    "Standardized_data=df/ df.std(axis = 0)\n",
    "Standardized_data"
   ]
  },
  {
   "cell_type": "markdown",
   "metadata": {},
   "source": [
    "### Step 2: Calculate the covariance matrix for the features in the dataset.\n",
    "#### Use the formula (X.T@X) / n then confirm using np.cov()"
   ]
  },
  {
   "cell_type": "code",
   "execution_count": 6,
   "metadata": {},
   "outputs": [
    {
     "data": {
      "text/plain": [
       "(17, 17)"
      ]
     },
     "execution_count": 6,
     "metadata": {},
     "output_type": "execute_result"
    }
   ],
   "source": [
    "covmtrx=np.cov(Standardized_data.T,ddof=0)\n",
    "covmtrx.shape"
   ]
  },
  {
   "cell_type": "markdown",
   "metadata": {},
   "source": [
    "### Step 3: Calculate the eigenvalues and eigenvectors for the covariance matrix.\n",
    "### Step 4: Sort eigenvalues and their corresponding eigenvectors."
   ]
  },
  {
   "cell_type": "code",
   "execution_count": 7,
   "metadata": {},
   "outputs": [
    {
     "name": "stdout",
     "output_type": "stream",
     "text": [
      "Eigen Values:\n",
      " [4.63840377e+00 3.45106748e+00 1.49430199e+00 1.27163121e+00\n",
      " 1.06462111e+00 9.77449376e-01 8.30719332e-01 7.23529009e-01\n",
      " 6.51117493e-01 5.23549226e-01 4.03198526e-01 3.01497286e-01\n",
      " 2.42486419e-01 1.72194291e-01 2.06927590e-01 4.53945816e-02\n",
      " 1.16477398e-05]\n",
      "\n",
      "Eigen Vectors:\n",
      " (17, 17)\n"
     ]
    }
   ],
   "source": [
    "eigenvalues, eigenvectors = np.linalg.eig(covmtrx)\n",
    "print('Eigen Values:\\n',eigenvalues)\n",
    "print('\\nEigen Vectors:\\n',eigenvectors.shape)"
   ]
  },
  {
   "cell_type": "code",
   "execution_count": 8,
   "metadata": {},
   "outputs": [],
   "source": [
    "sorted_indices = np.argsort(eigenvalues)[::-1]  # Get indices to sort eigenvalues in descending order\n",
    "sorted_eigenvalues = eigenvalues[sorted_indices]\n",
    "sorted_eigenvectors = eigenvectors[:, sorted_indices]  # Sort corresponding eigenvectors\n"
   ]
  },
  {
   "cell_type": "markdown",
   "metadata": {},
   "source": [
    "### Step 5: Pick k or retio eigenvalues and form a matrix of eigenvectors.\n",
    "#### 95%"
   ]
  },
  {
   "cell_type": "code",
   "execution_count": 9,
   "metadata": {},
   "outputs": [
    {
     "data": {
      "text/plain": [
       "array([2.72877773e-01, 2.03026657e-01, 8.79099403e-02, 7.48101958e-02,\n",
       "       6.26317700e-02, 5.75034478e-02, 4.88713042e-02, 4.25652864e-02,\n",
       "       3.83053094e-02, 3.08004551e-02, 2.37202110e-02, 1.77371165e-02,\n",
       "       1.42655011e-02, 1.21735715e-02, 1.01302079e-02, 2.67056792e-03,\n",
       "       6.85237739e-07])"
      ]
     },
     "execution_count": 9,
     "metadata": {},
     "output_type": "execute_result"
    }
   ],
   "source": [
    "eigenvalues_prsnt = (sorted_eigenvalues/sum(sorted_eigenvalues))\n",
    "eigenvalues_prsnt"
   ]
  },
  {
   "cell_type": "code",
   "execution_count": 10,
   "metadata": {},
   "outputs": [
    {
     "data": {
      "text/plain": [
       "array([0.27287777, 0.47590443, 0.56381437, 0.63862457, 0.70125634,\n",
       "       0.75875978, 0.80763109, 0.85019637, 0.88850168, 0.91930214,\n",
       "       0.94302235, 0.96075947, 0.97502497, 0.98719854, 0.99732875,\n",
       "       0.99999931, 1.        ])"
      ]
     },
     "execution_count": 10,
     "metadata": {},
     "output_type": "execute_result"
    }
   ],
   "source": [
    "eigenvalues_cum = np.cumsum(eigenvalues_prsnt)\n",
    "eigenvalues_cum"
   ]
  },
  {
   "cell_type": "code",
   "execution_count": 11,
   "metadata": {},
   "outputs": [
    {
     "data": {
      "text/plain": [
       "array([ True,  True,  True,  True,  True,  True,  True,  True,  True,\n",
       "        True,  True, False, False, False, False, False, False])"
      ]
     },
     "execution_count": 11,
     "metadata": {},
     "output_type": "execute_result"
    }
   ],
   "source": [
    "eigenvalues_cum <= 0.95"
   ]
  },
  {
   "cell_type": "code",
   "execution_count": null,
   "metadata": {},
   "outputs": [],
   "source": []
  },
  {
   "cell_type": "code",
   "execution_count": 12,
   "metadata": {},
   "outputs": [
    {
     "data": {
      "text/plain": [
       "(17, 11)"
      ]
     },
     "execution_count": 12,
     "metadata": {},
     "output_type": "execute_result"
    }
   ],
   "source": [
    "#t=eigenvectors[:,0:5]\n",
    "#t.shape\n",
    "\n",
    "t=sorted_eigenvectors[:,eigenvalues_cum <= 0.95]\n",
    "t.shape"
   ]
  },
  {
   "cell_type": "markdown",
   "metadata": {},
   "source": [
    "### Step 6:Transform the original matrix."
   ]
  },
  {
   "cell_type": "code",
   "execution_count": 13,
   "metadata": {},
   "outputs": [
    {
     "name": "stdout",
     "output_type": "stream",
     "text": [
      "Transformed Data:\n"
     ]
    },
    {
     "data": {
      "text/plain": [
       "(8949, 11)"
      ]
     },
     "execution_count": 13,
     "metadata": {},
     "output_type": "execute_result"
    }
   ],
   "source": [
    "TransformedData=Standardized_data @ t\n",
    "print('Transformed Data:')\n",
    "TransformedData.shape\n"
   ]
  },
  {
   "cell_type": "markdown",
   "metadata": {},
   "source": [
    "# Let's combine all of the above into class"
   ]
  },
  {
   "cell_type": "code",
   "execution_count": 15,
   "metadata": {},
   "outputs": [],
   "source": [
    "class PCA ():\n",
    "\n",
    "    def __init__(self,n_components = 0.95):\n",
    "        self.n_components = n_components\n",
    "        if self.n_components > 1:\n",
    "            self.type = 'var'\n",
    "        else:\n",
    "            self.type = 'ratio'\n",
    "\n",
    "    def fit(self,X):\n",
    "\n",
    "        self.mean = X.mean(axis=0)\n",
    "        self.std1 = X.std(axis=0)\n",
    "        self.var1 = X.var(axis=0)\n",
    "\n",
    "        # fill\n",
    "        #X=((X-self.mean)/self.std1)\n",
    "        X=((X-self.mean)/self.std1)\n",
    "\n",
    "        covM= np.cov(X.T) #X.T@X\n",
    "        self.eigenvalues, self.eigenvectors = np.linalg.eig(covM)\n",
    "        print(self.eigenvalues.round(2))\n",
    "        s=self.eigenvalues.sum()\n",
    "        self.variance_ratio = self.eigenvalues/s\n",
    "        if self.n_components > 1:\n",
    "            self.components = self.eigenvectors[:,:self.n_components]\n",
    "        else: \n",
    "            self.variance_ratio_cum_sum = self.variance_ratio.cumsum()\n",
    "            self.components=self.eigenvectors[:, self.variance_ratio_cum_sum <= self.n_components]        \n",
    "\n",
    "        #self.components = #matrix (n,)\n",
    "\n",
    "        #return X_new\n",
    "\n",
    "    def transform(self,Z):\n",
    "        # fill\n",
    "        #Z=((Z-self.mean)/self.std1)\n",
    "        Z=((Z-self.mean)/self.std1)\n",
    "\n",
    "\n",
    "        Z_new = self.TransformedData=Z @ self.components\n",
    "\n",
    "\n",
    "        return Z_new\n",
    "\n",
    "    def plot_explained_variance(self):\n",
    "        plt.plot(self.variance_ratio_cum_sum)\n",
    "        plt.xlabel('Number of components')\n",
    "        plt.ylabel('Explained variance')\n",
    "        plt.show()"
   ]
  },
  {
   "cell_type": "code",
   "execution_count": 16,
   "metadata": {},
   "outputs": [
    {
     "name": "stdout",
     "output_type": "stream",
     "text": [
      "[4.64 3.45 1.49 1.27 1.06 0.98 0.83 0.72 0.65 0.52 0.4  0.3  0.24 0.21\n",
      " 0.17 0.05 0.  ]\n"
     ]
    }
   ],
   "source": [
    "pca_section = PCA(n_components=0.95)\n",
    "X_transofmed = pca_section.fit(df.values)\n"
   ]
  },
  {
   "cell_type": "code",
   "execution_count": 17,
   "metadata": {},
   "outputs": [
    {
     "name": "stdout",
     "output_type": "stream",
     "text": [
      "(17, 11)\n",
      "expected shape: (17,11)\n"
     ]
    }
   ],
   "source": [
    "print(pca_section.components.shape)\n",
    "print(\"expected shape: (17,11)\")"
   ]
  },
  {
   "cell_type": "code",
   "execution_count": 18,
   "metadata": {},
   "outputs": [
    {
     "data": {
      "text/plain": [
       "(8949, 11)"
      ]
     },
     "execution_count": 18,
     "metadata": {},
     "output_type": "execute_result"
    }
   ],
   "source": [
    "pca_section.transform(df.values).shape"
   ]
  },
  {
   "cell_type": "code",
   "execution_count": 19,
   "metadata": {},
   "outputs": [
    {
     "data": {
      "image/png": "[encoded data removed]",
      "text/plain": [
       "<Figure size 640x480 with 1 Axes>"
      ]
     },
     "metadata": {},
     "output_type": "display_data"
    }
   ],
   "source": [
    "pca_section.plot_explained_variance()"
   ]
  }
 ],
 "metadata": {
  "kernelspec": {
   "display_name": "base",
   "language": "python",
   "name": "python3"
  },
  "language_info": {
   "codemirror_mode": {
    "name": "ipython",
    "version": 3
   },
   "file_extension": ".py",
   "mimetype": "text/x-python",
   "name": "python",
   "nbconvert_exporter": "python",
   "pygments_lexer": "ipython3",
   "version": "3.11.4"
  }
 },
 "nbformat": 4,
 "nbformat_minor": 2
}
